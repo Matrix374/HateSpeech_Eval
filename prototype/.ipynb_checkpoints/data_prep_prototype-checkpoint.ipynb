{
 "cells": [
  {
   "cell_type": "markdown",
   "metadata": {},
   "source": [
    "# Prototype"
   ]
  },
  {
   "cell_type": "markdown",
   "metadata": {},
   "source": [
    "# Part 1 : Running a Classifier\n",
    "\n",
    "The initial goal of this prototype is to run a classifier on the provided."
   ]
  },
  {
   "cell_type": "code",
   "execution_count": 3,
   "metadata": {},
   "outputs": [
    {
     "data": {
      "text/html": [
       "<div>\n",
       "<style scoped>\n",
       "    .dataframe tbody tr th:only-of-type {\n",
       "        vertical-align: middle;\n",
       "    }\n",
       "\n",
       "    .dataframe tbody tr th {\n",
       "        vertical-align: top;\n",
       "    }\n",
       "\n",
       "    .dataframe thead th {\n",
       "        text-align: right;\n",
       "    }\n",
       "</style>\n",
       "<table border=\"1\" class=\"dataframe\">\n",
       "  <thead>\n",
       "    <tr style=\"text-align: right;\">\n",
       "      <th></th>\n",
       "      <th>id</th>\n",
       "      <th>text</th>\n",
       "      <th>HS</th>\n",
       "      <th>TR</th>\n",
       "      <th>AG</th>\n",
       "    </tr>\n",
       "  </thead>\n",
       "  <tbody>\n",
       "    <tr>\n",
       "      <th>0</th>\n",
       "      <td>18201</td>\n",
       "      <td>I swear I’m getting to places just in the nick...</td>\n",
       "      <td>0</td>\n",
       "      <td>0</td>\n",
       "      <td>0</td>\n",
       "    </tr>\n",
       "    <tr>\n",
       "      <th>1</th>\n",
       "      <td>18202</td>\n",
       "      <td>I’m an immigrant — and Trump is right on immig...</td>\n",
       "      <td>0</td>\n",
       "      <td>0</td>\n",
       "      <td>0</td>\n",
       "    </tr>\n",
       "    <tr>\n",
       "      <th>2</th>\n",
       "      <td>18203</td>\n",
       "      <td>#IllegalImmigrants #IllegalAliens #ElectoralSy...</td>\n",
       "      <td>1</td>\n",
       "      <td>0</td>\n",
       "      <td>1</td>\n",
       "    </tr>\n",
       "    <tr>\n",
       "      <th>3</th>\n",
       "      <td>18204</td>\n",
       "      <td>@DRUDGE_REPORT We have our own invasion issues...</td>\n",
       "      <td>1</td>\n",
       "      <td>0</td>\n",
       "      <td>1</td>\n",
       "    </tr>\n",
       "    <tr>\n",
       "      <th>4</th>\n",
       "      <td>18205</td>\n",
       "      <td>Worker Charged With Sexually Molesting Eight C...</td>\n",
       "      <td>0</td>\n",
       "      <td>0</td>\n",
       "      <td>0</td>\n",
       "    </tr>\n",
       "  </tbody>\n",
       "</table>\n",
       "</div>"
      ],
      "text/plain": [
       "      id                                               text  HS  TR  AG\n",
       "0  18201  I swear I’m getting to places just in the nick...   0   0   0\n",
       "1  18202  I’m an immigrant — and Trump is right on immig...   0   0   0\n",
       "2  18203  #IllegalImmigrants #IllegalAliens #ElectoralSy...   1   0   1\n",
       "3  18204  @DRUDGE_REPORT We have our own invasion issues...   1   0   1\n",
       "4  18205  Worker Charged With Sexually Molesting Eight C...   0   0   0"
      ]
     },
     "execution_count": 3,
     "metadata": {},
     "output_type": "execute_result"
    }
   ],
   "source": [
    "from sklearn.feature_extraction.text import CountVectorizer\n",
    "import pandas as pd\n",
    "\n",
    "path = 'D:/Programming/Uni/FYP/data/hateval2019_en_dev.csv'\n",
    "testset = pd.read_csv(path)\n",
    "\n",
    "testset.head(5)"
   ]
  },
  {
   "cell_type": "code",
   "execution_count": null,
   "metadata": {},
   "outputs": [],
   "source": [
    "testset.shape"
   ]
  },
  {
   "cell_type": "code",
   "execution_count": 4,
   "metadata": {
    "scrolled": true
   },
   "outputs": [
    {
     "data": {
      "text/plain": [
       "0    I swear I’m getting to places just in the nick...\n",
       "1    I’m an immigrant — and Trump is right on immig...\n",
       "2    #IllegalImmigrants #IllegalAliens #ElectoralSy...\n",
       "3    @DRUDGE_REPORT We have our own invasion issues...\n",
       "4    Worker Charged With Sexually Molesting Eight C...\n",
       "5    UN picks refugees for UK, picks mostly Syrian ...\n",
       "6    @htTweets Delhi will be much better under Prez...\n",
       "7    Global Compact on Migration moves forward http...\n",
       "8    Violence toward tourists in Barcelona, Spain -...\n",
       "9    Immigration decline costing UK economy billion...\n",
       "Name: text, dtype: object"
      ]
     },
     "execution_count": 4,
     "metadata": {},
     "output_type": "execute_result"
    }
   ],
   "source": [
    "testset.head(10)"
   ]
  },
  {
   "cell_type": "markdown",
   "metadata": {},
   "source": [
    "As can be seen from the data here, the mentions in the original tweet is still present within this dataset.\n",
    "\n",
    "This should be scrubbed for data privacy"
   ]
  },
  {
   "cell_type": "code",
   "execution_count": 8,
   "metadata": {},
   "outputs": [
    {
     "data": {
      "text/plain": [
       "0    796\n",
       "1    204\n",
       "Name: AG, dtype: int64"
      ]
     },
     "execution_count": 8,
     "metadata": {},
     "output_type": "execute_result"
    }
   ],
   "source": [
    "testset.HS.value_counts()"
   ]
  },
  {
   "cell_type": "code",
   "execution_count": 9,
   "metadata": {},
   "outputs": [
    {
     "data": {
      "text/plain": [
       "0    781\n",
       "1    219\n",
       "Name: TR, dtype: int64"
      ]
     },
     "execution_count": 9,
     "metadata": {},
     "output_type": "execute_result"
    }
   ],
   "source": [
    "testset.TR.value_counts()"
   ]
  },
  {
   "cell_type": "code",
   "execution_count": 10,
   "metadata": {},
   "outputs": [
    {
     "data": {
      "text/plain": [
       "0    796\n",
       "1    204\n",
       "Name: AG, dtype: int64"
      ]
     },
     "execution_count": 10,
     "metadata": {},
     "output_type": "execute_result"
    }
   ],
   "source": [
    "testset.AG.value_counts()"
   ]
  },
  {
   "cell_type": "code",
   "execution_count": 12,
   "metadata": {},
   "outputs": [
    {
     "name": "stdout",
     "output_type": "stream",
     "text": [
      "(1000,)\n",
      "(1000,)\n"
     ]
    }
   ],
   "source": [
    "x = testset.text\n",
    "y = testset.HS\n",
    "\n",
    "print(x.shape)\n",
    "print(y.shape)"
   ]
  },
  {
   "cell_type": "code",
   "execution_count": 13,
   "metadata": {},
   "outputs": [
    {
     "name": "stdout",
     "output_type": "stream",
     "text": [
      "(750,)\n",
      "(250,)\n",
      "(750,)\n",
      "(250,)\n"
     ]
    }
   ],
   "source": [
    "from sklearn.model_selection import train_test_split\n",
    "\n",
    "x_train, x_test, y_train, y_test = train_test_split(x,y, random_state=1)\n",
    "\n",
    "print(x_train.shape)\n",
    "print(x_test.shape)\n",
    "print(y_train.shape)\n",
    "print(y_test.shape)"
   ]
  },
  {
   "cell_type": "code",
   "execution_count": 16,
   "metadata": {},
   "outputs": [
    {
     "data": {
      "text/plain": [
       "<750x1676 sparse matrix of type '<class 'numpy.int64'>'\n",
       "\twith 8094 stored elements in Compressed Sparse Row format>"
      ]
     },
     "execution_count": 16,
     "metadata": {},
     "output_type": "execute_result"
    }
   ],
   "source": [
    "vect = CountVectorizer(stop_words='english', ngram_range=(1, 2), min_df=2)\n",
    "\n",
    "x_train_dtm = vect.fit_transform(x_train)\n",
    "x_train_dtm"
   ]
  },
  {
   "cell_type": "code",
   "execution_count": 17,
   "metadata": {},
   "outputs": [
    {
     "data": {
      "text/plain": [
       "<250x1676 sparse matrix of type '<class 'numpy.int64'>'\n",
       "\twith 2133 stored elements in Compressed Sparse Row format>"
      ]
     },
     "execution_count": 17,
     "metadata": {},
     "output_type": "execute_result"
    }
   ],
   "source": [
    "x_test_dtm = vect.transform(x_test)\n",
    "x_test_dtm"
   ]
  },
  {
   "cell_type": "code",
   "execution_count": 19,
   "metadata": {},
   "outputs": [
    {
     "name": "stdout",
     "output_type": "stream",
     "text": [
      "Wall time: 3 ms\n"
     ]
    },
    {
     "data": {
      "text/plain": [
       "MultinomialNB()"
      ]
     },
     "execution_count": 19,
     "metadata": {},
     "output_type": "execute_result"
    }
   ],
   "source": [
    "from sklearn.naive_bayes import MultinomialNB\n",
    "nb = MultinomialNB()\n",
    "\n",
    "%time nb.fit(x_train_dtm, y_train)"
   ]
  },
  {
   "cell_type": "code",
   "execution_count": 21,
   "metadata": {},
   "outputs": [],
   "source": [
    "y_pred_class = nb.predict(x_test_dtm)"
   ]
  },
  {
   "cell_type": "code",
   "execution_count": 22,
   "metadata": {},
   "outputs": [
    {
     "data": {
      "text/plain": [
       "0.712"
      ]
     },
     "execution_count": 22,
     "metadata": {},
     "output_type": "execute_result"
    }
   ],
   "source": [
    "from sklearn import metrics\n",
    "\n",
    "nb_acc = metrics.accuracy_score(y_test, y_pred_class)\n",
    "nb_acc"
   ]
  },
  {
   "cell_type": "code",
   "execution_count": 23,
   "metadata": {},
   "outputs": [
    {
     "data": {
      "text/plain": [
       "array([[105,  39],\n",
       "       [ 33,  73]], dtype=int64)"
      ]
     },
     "execution_count": 23,
     "metadata": {},
     "output_type": "execute_result"
    }
   ],
   "source": [
    "metrics.confusion_matrix(y_test, y_pred_class)"
   ]
  },
  {
   "cell_type": "code",
   "execution_count": 24,
   "metadata": {},
   "outputs": [
    {
     "data": {
      "text/plain": [
       "507      @greggutfeld Shut the fuck up you pussy boy!!!!\n",
       "818    you gotta be a fucking BITCH to play with a gi...\n",
       "810                   Screw up your face and skank music\n",
       "968                  @badzachx you pussy ass bitch. stfu\n",
       "702    i was also clenching my jaw and further grindi...\n",
       "910                @annmarievazja Skank man .. you got!!\n",
       "691    @Morgan1Leigh @ginny_brett @brithume @JoeVitol...\n",
       "94     Ontario concerns were not listened at immigrat...\n",
       "577    Cory Booker thinks he's the most hysterical wo...\n",
       "41     Germany try to deport criminel Afghanistan ref...\n",
       "995         @SamEnvers you unfollowed me? Fuck you pussy\n",
       "885    nigga, im pretty sure you dont get pussy, just...\n",
       "677    Mr Fucking Graham Shut the Fuck up about fucki...\n",
       "17     Texas woman, 21, dies after falling from movin...\n",
       "191    Illegal aliens are expensive:  https://t.co/63...\n",
       "638    @SunBets Hysterical @TheSun Did you make that ...\n",
       "573    I said I want dick cause Im sad & sex makes me...\n",
       "517    Great goodly moogly this Buffalo Bill looking ...\n",
       "785    @The_UnSilent_ Look, I thought the same thing ...\n",
       "868    @realDonaldTrump Really mr. grab em by the pus...\n",
       "683    @WalterC196 @nowthisnews America was founded b...\n",
       "799    \"@CheyOsrs @equilibriumsoul But then it's a 50...\n",
       "692    @melissa710 @TIME Do you, the hysterical moron...\n",
       "997    @2beornotbeing Honey, as a fellow white chick,...\n",
       "776    @realDonaldTrump YOU FUCKED PUERTO RICO & THE ...\n",
       "535    Idc if she's the one that confirmed it. It was...\n",
       "581    Y'all degrading iKON, watch out. They might no...\n",
       "576    @AnnCoulter @RealJamesWoods @marklevinshow Cou...\n",
       "705    @ChiefCourt Oh no doubt, i stay in the kitchen...\n",
       "84     What kind of goons and buffoons stop a magazin...\n",
       "688    @CoryBooker Lol this is hysterical youre a los...\n",
       "597    Idk why, but Im a lot nicer to the people I do...\n",
       "967    Ooh this is getting into Shakespearean levels ...\n",
       "550    @TwitchiVelocity @LogicsFanpage Lmao stfu nigg...\n",
       "608    Sip wine with yo bitch while she explain shit ...\n",
       "952    @WhittakerGayla @JRubinBlogger @BenSasse I'm s...\n",
       "835    @Jaykordeii @rainbowhairedqt @KENotBeStopped4 ...\n",
       "941    Dont tell me youre in love with me, just shut ...\n",
       "680    I need the lady next to me on the train to act...\n",
       "Name: text, dtype: object"
      ]
     },
     "execution_count": 24,
     "metadata": {},
     "output_type": "execute_result"
    }
   ],
   "source": [
    "x_test[(y_pred_class==1) & (y_test==0)]"
   ]
  },
  {
   "cell_type": "code",
   "execution_count": 25,
   "metadata": {},
   "outputs": [
    {
     "data": {
      "text/plain": [
       "368    @MSNBC If the refugees dont get food and water...\n",
       "446    @chunkymark Hear hear May bows down and grovel...\n",
       "971          @FoxNews 65 of which were hysterical women?\n",
       "374    I do not understand the minds of some. If the ...\n",
       "241    #Refugees not welcome can’t be deported, becau...\n",
       "255    @observer it is has been said the Uk needs \" m...\n",
       "654    @dwmillerus @angiesd789 @SenateMajLdr Yes so o...\n",
       "189    Use foreign aid budget to help illegal migrant...\n",
       "335    EU: How to Stop Mass-migration from Africa? Br...\n",
       "538    For crying out loud, Ivanka! STFU you ignorant...\n",
       "479    Germany now worried that the surge of African ...\n",
       "175    @rajnathsingh Lot of illegal Muslim immigrants...\n",
       "794    Nah yall stay in the kitchen and make bariis a...\n",
       "2      #IllegalImmigrants #IllegalAliens #ElectoralSy...\n",
       "73     Exclusive: Sanctioned Libya coastguard command...\n",
       "111    Corbyn still maintains Blair's New Labour whic...\n",
       "555    #WomensMarch collected hundreds of hysterical ...\n",
       "552    Brown Nose Nikki, You were silent when Donnie ...\n",
       "887    I usually dont hate people but I actually hate...\n",
       "81     @matteosalvinimi Immigrants sometimes act like...\n",
       "201    @ArvindKejriwal Delhi being reduced to big slu...\n",
       "783    @tannerofhides @minimaslany Not to mention tha...\n",
       "584    Left the WH dead broke, but were able to buy 2...\n",
       "207    See why we don't need this type of immigration...\n",
       "382    Chief of Russian Armed Forces Calls on Syrian ...\n",
       "994    @Lauren_Southern You're just a skank and every...\n",
       "177    The Iraqi immigrant accused of shooting COS Po...\n",
       "945    @AnnCoulter From the multi-year champion of mo...\n",
       "920    Im sorry, but this generation of females have ...\n",
       "761    @Moonlitelynn @womensmarch @bobblanddesign @CP...\n",
       "99     New Mexico Sheriffs arrest 2 NOT-WHITE men, Si...\n",
       "181    Hating on refugees #refugeesnotwelcome   https...\n",
       "385    The #snp have no confidence in Scotland. If th...\n",
       "Name: text, dtype: object"
      ]
     },
     "execution_count": 25,
     "metadata": {},
     "output_type": "execute_result"
    }
   ],
   "source": [
    "x_test[(y_pred_class==0) & (y_test==1)]"
   ]
  },
  {
   "cell_type": "code",
   "execution_count": 28,
   "metadata": {},
   "outputs": [
    {
     "data": {
      "text/plain": [
       "0.768016247379455"
      ]
     },
     "execution_count": 28,
     "metadata": {},
     "output_type": "execute_result"
    }
   ],
   "source": [
    "metrics.roc_auc_score(y_test, y_pred_prob)"
   ]
  }
 ],
 "metadata": {
  "kernelspec": {
   "display_name": "Python 3",
   "language": "python",
   "name": "python3"
  },
  "language_info": {
   "codemirror_mode": {
    "name": "ipython",
    "version": 3
   },
   "file_extension": ".py",
   "mimetype": "text/x-python",
   "name": "python",
   "nbconvert_exporter": "python",
   "pygments_lexer": "ipython3",
   "version": "3.8.5"
  }
 },
 "nbformat": 4,
 "nbformat_minor": 4
}
