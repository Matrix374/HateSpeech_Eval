{
 "cells": [
  {
   "cell_type": "markdown",
   "metadata": {},
   "source": [
    "# Prototype"
   ]
  },
  {
   "cell_type": "markdown",
   "metadata": {},
   "source": [
    "# Part 1 : Running a Classifier\n",
    "\n",
    "The initial goal of this prototype is to run a classifier on the provided.\n",
    "\n",
    "The classifier is also only comparing itself to HS"
   ]
  },
  {
   "cell_type": "code",
   "execution_count": 1,
   "metadata": {},
   "outputs": [
    {
     "data": {
      "text/html": [
       "<div>\n",
       "<style scoped>\n",
       "    .dataframe tbody tr th:only-of-type {\n",
       "        vertical-align: middle;\n",
       "    }\n",
       "\n",
       "    .dataframe tbody tr th {\n",
       "        vertical-align: top;\n",
       "    }\n",
       "\n",
       "    .dataframe thead th {\n",
       "        text-align: right;\n",
       "    }\n",
       "</style>\n",
       "<table border=\"1\" class=\"dataframe\">\n",
       "  <thead>\n",
       "    <tr style=\"text-align: right;\">\n",
       "      <th></th>\n",
       "      <th>Unnamed: 0</th>\n",
       "      <th>id</th>\n",
       "      <th>text</th>\n",
       "      <th>HS</th>\n",
       "      <th>TR</th>\n",
       "      <th>AG</th>\n",
       "    </tr>\n",
       "  </thead>\n",
       "  <tbody>\n",
       "    <tr>\n",
       "      <th>0</th>\n",
       "      <td>0</td>\n",
       "      <td>18201</td>\n",
       "      <td>I swear I’m getting to places just in the nick...</td>\n",
       "      <td>0</td>\n",
       "      <td>0</td>\n",
       "      <td>0</td>\n",
       "    </tr>\n",
       "    <tr>\n",
       "      <th>1</th>\n",
       "      <td>1</td>\n",
       "      <td>18202</td>\n",
       "      <td>I’m an immigrant — and Trump is right on immig...</td>\n",
       "      <td>0</td>\n",
       "      <td>0</td>\n",
       "      <td>0</td>\n",
       "    </tr>\n",
       "    <tr>\n",
       "      <th>2</th>\n",
       "      <td>2</td>\n",
       "      <td>18203</td>\n",
       "      <td>#IllegalImmigrants #IllegalAliens #ElectoralSy...</td>\n",
       "      <td>1</td>\n",
       "      <td>0</td>\n",
       "      <td>1</td>\n",
       "    </tr>\n",
       "    <tr>\n",
       "      <th>3</th>\n",
       "      <td>3</td>\n",
       "      <td>18204</td>\n",
       "      <td>@USER We have our own invasion issues with Mex...</td>\n",
       "      <td>1</td>\n",
       "      <td>0</td>\n",
       "      <td>1</td>\n",
       "    </tr>\n",
       "    <tr>\n",
       "      <th>4</th>\n",
       "      <td>4</td>\n",
       "      <td>18205</td>\n",
       "      <td>Worker Charged With Sexually Molesting Eight C...</td>\n",
       "      <td>0</td>\n",
       "      <td>0</td>\n",
       "      <td>0</td>\n",
       "    </tr>\n",
       "  </tbody>\n",
       "</table>\n",
       "</div>"
      ],
      "text/plain": [
       "   Unnamed: 0     id                                               text  HS  \\\n",
       "0           0  18201  I swear I’m getting to places just in the nick...   0   \n",
       "1           1  18202  I’m an immigrant — and Trump is right on immig...   0   \n",
       "2           2  18203  #IllegalImmigrants #IllegalAliens #ElectoralSy...   1   \n",
       "3           3  18204  @USER We have our own invasion issues with Mex...   1   \n",
       "4           4  18205  Worker Charged With Sexually Molesting Eight C...   0   \n",
       "\n",
       "   TR  AG  \n",
       "0   0   0  \n",
       "1   0   0  \n",
       "2   0   1  \n",
       "3   0   1  \n",
       "4   0   0  "
      ]
     },
     "execution_count": 1,
     "metadata": {},
     "output_type": "execute_result"
    }
   ],
   "source": [
    "from sklearn.feature_extraction.text import CountVectorizer\n",
    "import pandas as pd\n",
    "\n",
    "path = '../data/hateval2019_en_dev_clean.csv'\n",
    "testset = pd.read_csv(path)\n",
    "\n",
    "testset.head(5)"
   ]
  },
  {
   "cell_type": "code",
   "execution_count": 2,
   "metadata": {},
   "outputs": [
    {
     "data": {
      "text/plain": [
       "(1000, 6)"
      ]
     },
     "execution_count": 2,
     "metadata": {},
     "output_type": "execute_result"
    }
   ],
   "source": [
    "testset.shape"
   ]
  },
  {
   "cell_type": "code",
   "execution_count": 3,
   "metadata": {
    "scrolled": true
   },
   "outputs": [
    {
     "data": {
      "text/html": [
       "<div>\n",
       "<style scoped>\n",
       "    .dataframe tbody tr th:only-of-type {\n",
       "        vertical-align: middle;\n",
       "    }\n",
       "\n",
       "    .dataframe tbody tr th {\n",
       "        vertical-align: top;\n",
       "    }\n",
       "\n",
       "    .dataframe thead th {\n",
       "        text-align: right;\n",
       "    }\n",
       "</style>\n",
       "<table border=\"1\" class=\"dataframe\">\n",
       "  <thead>\n",
       "    <tr style=\"text-align: right;\">\n",
       "      <th></th>\n",
       "      <th>Unnamed: 0</th>\n",
       "      <th>id</th>\n",
       "      <th>text</th>\n",
       "      <th>HS</th>\n",
       "      <th>TR</th>\n",
       "      <th>AG</th>\n",
       "    </tr>\n",
       "  </thead>\n",
       "  <tbody>\n",
       "    <tr>\n",
       "      <th>0</th>\n",
       "      <td>0</td>\n",
       "      <td>18201</td>\n",
       "      <td>I swear I’m getting to places just in the nick...</td>\n",
       "      <td>0</td>\n",
       "      <td>0</td>\n",
       "      <td>0</td>\n",
       "    </tr>\n",
       "    <tr>\n",
       "      <th>1</th>\n",
       "      <td>1</td>\n",
       "      <td>18202</td>\n",
       "      <td>I’m an immigrant — and Trump is right on immig...</td>\n",
       "      <td>0</td>\n",
       "      <td>0</td>\n",
       "      <td>0</td>\n",
       "    </tr>\n",
       "    <tr>\n",
       "      <th>2</th>\n",
       "      <td>2</td>\n",
       "      <td>18203</td>\n",
       "      <td>#IllegalImmigrants #IllegalAliens #ElectoralSy...</td>\n",
       "      <td>1</td>\n",
       "      <td>0</td>\n",
       "      <td>1</td>\n",
       "    </tr>\n",
       "    <tr>\n",
       "      <th>3</th>\n",
       "      <td>3</td>\n",
       "      <td>18204</td>\n",
       "      <td>@USER We have our own invasion issues with Mex...</td>\n",
       "      <td>1</td>\n",
       "      <td>0</td>\n",
       "      <td>1</td>\n",
       "    </tr>\n",
       "    <tr>\n",
       "      <th>4</th>\n",
       "      <td>4</td>\n",
       "      <td>18205</td>\n",
       "      <td>Worker Charged With Sexually Molesting Eight C...</td>\n",
       "      <td>0</td>\n",
       "      <td>0</td>\n",
       "      <td>0</td>\n",
       "    </tr>\n",
       "    <tr>\n",
       "      <th>5</th>\n",
       "      <td>5</td>\n",
       "      <td>18206</td>\n",
       "      <td>UN picks refugees for UK, picks mostly Syrian ...</td>\n",
       "      <td>0</td>\n",
       "      <td>0</td>\n",
       "      <td>0</td>\n",
       "    </tr>\n",
       "    <tr>\n",
       "      <th>6</th>\n",
       "      <td>6</td>\n",
       "      <td>18207</td>\n",
       "      <td>@USER Delhi will be much better under Prez Rul...</td>\n",
       "      <td>0</td>\n",
       "      <td>0</td>\n",
       "      <td>0</td>\n",
       "    </tr>\n",
       "    <tr>\n",
       "      <th>7</th>\n",
       "      <td>7</td>\n",
       "      <td>18208</td>\n",
       "      <td>Global Compact on Migration moves forward http...</td>\n",
       "      <td>0</td>\n",
       "      <td>0</td>\n",
       "      <td>0</td>\n",
       "    </tr>\n",
       "    <tr>\n",
       "      <th>8</th>\n",
       "      <td>8</td>\n",
       "      <td>18209</td>\n",
       "      <td>Violence toward tourists in Barcelona, Spain -...</td>\n",
       "      <td>0</td>\n",
       "      <td>0</td>\n",
       "      <td>0</td>\n",
       "    </tr>\n",
       "    <tr>\n",
       "      <th>9</th>\n",
       "      <td>9</td>\n",
       "      <td>18210</td>\n",
       "      <td>Immigration decline costing UK economy billion...</td>\n",
       "      <td>0</td>\n",
       "      <td>0</td>\n",
       "      <td>0</td>\n",
       "    </tr>\n",
       "  </tbody>\n",
       "</table>\n",
       "</div>"
      ],
      "text/plain": [
       "   Unnamed: 0     id                                               text  HS  \\\n",
       "0           0  18201  I swear I’m getting to places just in the nick...   0   \n",
       "1           1  18202  I’m an immigrant — and Trump is right on immig...   0   \n",
       "2           2  18203  #IllegalImmigrants #IllegalAliens #ElectoralSy...   1   \n",
       "3           3  18204  @USER We have our own invasion issues with Mex...   1   \n",
       "4           4  18205  Worker Charged With Sexually Molesting Eight C...   0   \n",
       "5           5  18206  UN picks refugees for UK, picks mostly Syrian ...   0   \n",
       "6           6  18207  @USER Delhi will be much better under Prez Rul...   0   \n",
       "7           7  18208  Global Compact on Migration moves forward http...   0   \n",
       "8           8  18209  Violence toward tourists in Barcelona, Spain -...   0   \n",
       "9           9  18210  Immigration decline costing UK economy billion...   0   \n",
       "\n",
       "   TR  AG  \n",
       "0   0   0  \n",
       "1   0   0  \n",
       "2   0   1  \n",
       "3   0   1  \n",
       "4   0   0  \n",
       "5   0   0  \n",
       "6   0   0  \n",
       "7   0   0  \n",
       "8   0   0  \n",
       "9   0   0  "
      ]
     },
     "execution_count": 3,
     "metadata": {},
     "output_type": "execute_result"
    }
   ],
   "source": [
    "testset.head(10)"
   ]
  },
  {
   "cell_type": "markdown",
   "metadata": {},
   "source": [
    "As can be seen from the data here, the mentions in the original tweet is still present within this dataset.\n",
    "\n",
    "This should be scrubbed for data privacy"
   ]
  },
  {
   "cell_type": "code",
   "execution_count": 4,
   "metadata": {},
   "outputs": [
    {
     "data": {
      "text/plain": [
       "0    573\n",
       "1    427\n",
       "Name: HS, dtype: int64"
      ]
     },
     "execution_count": 4,
     "metadata": {},
     "output_type": "execute_result"
    }
   ],
   "source": [
    "testset.HS.value_counts()"
   ]
  },
  {
   "cell_type": "code",
   "execution_count": 5,
   "metadata": {},
   "outputs": [
    {
     "data": {
      "text/plain": [
       "0    781\n",
       "1    219\n",
       "Name: TR, dtype: int64"
      ]
     },
     "execution_count": 5,
     "metadata": {},
     "output_type": "execute_result"
    }
   ],
   "source": [
    "testset.TR.value_counts()"
   ]
  },
  {
   "cell_type": "code",
   "execution_count": 6,
   "metadata": {},
   "outputs": [
    {
     "data": {
      "text/plain": [
       "0    796\n",
       "1    204\n",
       "Name: AG, dtype: int64"
      ]
     },
     "execution_count": 6,
     "metadata": {},
     "output_type": "execute_result"
    }
   ],
   "source": [
    "testset.AG.value_counts()"
   ]
  },
  {
   "cell_type": "code",
   "execution_count": 7,
   "metadata": {},
   "outputs": [
    {
     "name": "stdout",
     "output_type": "stream",
     "text": [
      "(1000,)\n",
      "(1000,)\n"
     ]
    }
   ],
   "source": [
    "x = testset.text\n",
    "y = testset.HS\n",
    "\n",
    "print(x.shape)\n",
    "print(y.shape)"
   ]
  },
  {
   "cell_type": "code",
   "execution_count": 8,
   "metadata": {},
   "outputs": [
    {
     "name": "stdout",
     "output_type": "stream",
     "text": [
      "(750,)\n",
      "(250,)\n",
      "(750,)\n",
      "(250,)\n"
     ]
    }
   ],
   "source": [
    "from sklearn.model_selection import train_test_split\n",
    "\n",
    "x_train, x_test, y_train, y_test = train_test_split(x,y, random_state=1)\n",
    "\n",
    "print(x_train.shape)\n",
    "print(x_test.shape)\n",
    "print(y_train.shape)\n",
    "print(y_test.shape)"
   ]
  },
  {
   "cell_type": "code",
   "execution_count": 9,
   "metadata": {},
   "outputs": [
    {
     "data": {
      "text/plain": [
       "<750x1651 sparse matrix of type '<class 'numpy.int64'>'\n",
       "\twith 8463 stored elements in Compressed Sparse Row format>"
      ]
     },
     "execution_count": 9,
     "metadata": {},
     "output_type": "execute_result"
    }
   ],
   "source": [
    "vect = CountVectorizer(stop_words='english', ngram_range=(1, 2), min_df=2)\n",
    "\n",
    "x_train_dtm = vect.fit_transform(x_train)\n",
    "x_train_dtm"
   ]
  },
  {
   "cell_type": "code",
   "execution_count": 10,
   "metadata": {},
   "outputs": [
    {
     "data": {
      "text/plain": [
       "<250x1651 sparse matrix of type '<class 'numpy.int64'>'\n",
       "\twith 2271 stored elements in Compressed Sparse Row format>"
      ]
     },
     "execution_count": 10,
     "metadata": {},
     "output_type": "execute_result"
    }
   ],
   "source": [
    "x_test_dtm = vect.transform(x_test)\n",
    "x_test_dtm"
   ]
  },
  {
   "cell_type": "code",
   "execution_count": 11,
   "metadata": {},
   "outputs": [
    {
     "name": "stdout",
     "output_type": "stream",
     "text": [
      "Wall time: 2.03 ms\n"
     ]
    },
    {
     "data": {
      "text/plain": [
       "MultinomialNB()"
      ]
     },
     "execution_count": 11,
     "metadata": {},
     "output_type": "execute_result"
    }
   ],
   "source": [
    "from sklearn.naive_bayes import MultinomialNB\n",
    "nb = MultinomialNB()\n",
    "\n",
    "%time nb.fit(x_train_dtm, y_train)"
   ]
  },
  {
   "cell_type": "code",
   "execution_count": 12,
   "metadata": {},
   "outputs": [],
   "source": [
    "y_pred_class = nb.predict(x_test_dtm)"
   ]
  },
  {
   "cell_type": "code",
   "execution_count": 13,
   "metadata": {},
   "outputs": [
    {
     "data": {
      "text/plain": [
       "0.704"
      ]
     },
     "execution_count": 13,
     "metadata": {},
     "output_type": "execute_result"
    }
   ],
   "source": [
    "from sklearn import metrics\n",
    "\n",
    "nb_acc = metrics.accuracy_score(y_test, y_pred_class)\n",
    "nb_acc"
   ]
  },
  {
   "cell_type": "code",
   "execution_count": 14,
   "metadata": {},
   "outputs": [
    {
     "data": {
      "text/plain": [
       "array([[101,  43],\n",
       "       [ 31,  75]], dtype=int64)"
      ]
     },
     "execution_count": 14,
     "metadata": {},
     "output_type": "execute_result"
    }
   ],
   "source": [
    "metrics.confusion_matrix(y_test, y_pred_class)"
   ]
  },
  {
   "cell_type": "code",
   "execution_count": 15,
   "metadata": {},
   "outputs": [
    {
     "data": {
      "text/plain": [
       "507             @USER Shut the fuck up you pussy boy!!!!\n",
       "818    you gotta be a fucking BITCH to play with a gi...\n",
       "810                   Screw up your face and skank music\n",
       "968                      @USER you pussy ass bitch. stfu\n",
       "702    i was also clenching my jaw and further grindi...\n",
       "910                         @USER Skank man .. you got!!\n",
       "691    @USER @USER @USER @USER True that Morgan!!!!If...\n",
       "94     Ontario concerns were not listened at immigrat...\n",
       "577    Cory Booker thinks he's the most hysterical wo...\n",
       "41     Germany try to deport criminel Afghanistan ref...\n",
       "995              @USER you unfollowed me? Fuck you pussy\n",
       "885    nigga, im pretty sure you dont get pussy, just...\n",
       "677    Mr Fucking Graham Shut the Fuck up about fucki...\n",
       "822    @USER And you deleted your tweet you pussy shu...\n",
       "812    \"@USER YA Allah!This filthy skank needs a \"\"ca...\n",
       "17     Texas woman, 21, dies after falling from movin...\n",
       "191    Illegal aliens are expensive:  https://t.co/63...\n",
       "638    @USER Hysterical @USER Did you make that up yo...\n",
       "573    I said I want dick cause Im sad & sex makes me...\n",
       "517    Great goodly moogly this Buffalo Bill looking ...\n",
       "785    @USER Look, I thought the same thing at first....\n",
       "868    @USER Really mr. grab em by the pussy? Yes, yo...\n",
       "683    @USER @USER America was founded by immigrants ...\n",
       "799    \"@USER @USER But then it's a 50/50 between rec...\n",
       "692    @USER @USER Do you, the hysterical moron even ...\n",
       "997    @USER Honey, as a fellow white chick, let me t...\n",
       "776    @USER YOU FUCKED PUERTO RICO & THE PEOPLE AND ...\n",
       "535    Idc if she's the one that confirmed it. It was...\n",
       "581    Y'all degrading iKON, watch out. They might no...\n",
       "576    @USER @USER @USER Could somebody tell those pa...\n",
       "705    @USER Oh no doubt, i stay in the kitchen. Musi...\n",
       "84     What kind of goons and buffoons stop a magazin...\n",
       "597    Idk why, but Im a lot nicer to the people I do...\n",
       "821    @USER @USER @USER Exactly but I am just a Hyst...\n",
       "967    Ooh this is getting into Shakespearean levels ...\n",
       "550    @USER @USER Lmao stfu nigga you dont know this...\n",
       "608    Sip wine with yo bitch while she explain shit ...\n",
       "982                                     @USER You pussy.\n",
       "952    @USER @USER @USER I'm sure Ben Sasse thinks yo...\n",
       "835    @USER @USER @USER @USER @USER Lmfao boi! Stfu ...\n",
       "941    Dont tell me youre in love with me, just shut ...\n",
       "680    I need the lady next to me on the train to act...\n",
       "567    @USER You people are hysterical. Dow up 26% si...\n",
       "Name: text, dtype: object"
      ]
     },
     "execution_count": 15,
     "metadata": {},
     "output_type": "execute_result"
    }
   ],
   "source": [
    "x_test[(y_pred_class==1) & (y_test==0)]"
   ]
  },
  {
   "cell_type": "code",
   "execution_count": 16,
   "metadata": {},
   "outputs": [
    {
     "data": {
      "text/plain": [
       "368    @USER If the refugees dont get food and water ...\n",
       "446    @USER Hear hear May bows down and grovels plea...\n",
       "374    I do not understand the minds of some. If the ...\n",
       "614    @USER @USER Yes yes Ann, lets continue to perp...\n",
       "241    #Refugees not welcome can’t be deported, becau...\n",
       "654    @USER @USER @USER Yes so obtuse every other co...\n",
       "189    Use foreign aid budget to help illegal migrant...\n",
       "335    EU: How to Stop Mass-migration from Africa? Br...\n",
       "538    For crying out loud, Ivanka! STFU you ignorant...\n",
       "479    Germany now worried that the surge of African ...\n",
       "175    @USER Lot of illegal Muslim immigrants r seen ...\n",
       "794    Nah yall stay in the kitchen and make bariis a...\n",
       "2      #IllegalImmigrants #IllegalAliens #ElectoralSy...\n",
       "73     Exclusive: Sanctioned Libya coastguard command...\n",
       "111    Corbyn still maintains Blair's New Labour whic...\n",
       "555    #WomensMarch collected hundreds of hysterical ...\n",
       "552    Brown Nose Nikki, You were silent when Donnie ...\n",
       "887    I usually dont hate people but I actually hate...\n",
       "81     @USER Immigrants sometimes act like they can d...\n",
       "201    @USER Delhi being reduced to big slum.Unchecke...\n",
       "783    @USER @USER Not to mention that book Claire di...\n",
       "584    Left the WH dead broke, but were able to buy 2...\n",
       "207    See why we don't need this type of immigration...\n",
       "382    Chief of Russian Armed Forces Calls on Syrian ...\n",
       "994    @USER You're just a skank and everyone knows i...\n",
       "177    The Iraqi immigrant accused of shooting COS Po...\n",
       "945    @USER From the multi-year champion of most hys...\n",
       "920    Im sorry, but this generation of females have ...\n",
       "99     New Mexico Sheriffs arrest 2 NOT-WHITE men, Si...\n",
       "181    Hating on refugees #refugeesnotwelcome   https...\n",
       "385    The #snp have no confidence in Scotland. If th...\n",
       "Name: text, dtype: object"
      ]
     },
     "execution_count": 16,
     "metadata": {},
     "output_type": "execute_result"
    }
   ],
   "source": [
    "x_test[(y_pred_class==0) & (y_test==1)]"
   ]
  },
  {
   "cell_type": "code",
   "execution_count": 17,
   "metadata": {},
   "outputs": [
    {
     "ename": "NameError",
     "evalue": "name 'y_pred_prob' is not defined",
     "output_type": "error",
     "traceback": [
      "\u001b[1;31m---------------------------------------------------------------------------\u001b[0m",
      "\u001b[1;31mNameError\u001b[0m                                 Traceback (most recent call last)",
      "\u001b[1;32m<ipython-input-17-63d4fb955bf3>\u001b[0m in \u001b[0;36m<module>\u001b[1;34m\u001b[0m\n\u001b[1;32m----> 1\u001b[1;33m \u001b[0mmetrics\u001b[0m\u001b[1;33m.\u001b[0m\u001b[0mroc_auc_score\u001b[0m\u001b[1;33m(\u001b[0m\u001b[0my_test\u001b[0m\u001b[1;33m,\u001b[0m \u001b[0my_pred_prob\u001b[0m\u001b[1;33m)\u001b[0m\u001b[1;33m\u001b[0m\u001b[1;33m\u001b[0m\u001b[0m\n\u001b[0m",
      "\u001b[1;31mNameError\u001b[0m: name 'y_pred_prob' is not defined"
     ]
    }
   ],
   "source": [
    "metrics.roc_auc_score(y_test, y_pred_prob)"
   ]
  },
  {
   "cell_type": "markdown",
   "metadata": {},
   "source": [
    "# Part 2 : Cleaning Up Data\n",
    "\n",
    "As can be seen in the earlier prototype, the tweet still contains its original mention.\n",
    "\n",
    "This needs to be removed"
   ]
  }
 ],
 "metadata": {
  "kernelspec": {
   "display_name": "Python 3",
   "language": "python",
   "name": "python3"
  },
  "language_info": {
   "codemirror_mode": {
    "name": "ipython",
    "version": 3
   },
   "file_extension": ".py",
   "mimetype": "text/x-python",
   "name": "python",
   "nbconvert_exporter": "python",
   "pygments_lexer": "ipython3",
   "version": "3.8.5"
  }
 },
 "nbformat": 4,
 "nbformat_minor": 4
}
