{
 "cells": [
  {
   "cell_type": "markdown",
   "metadata": {},
   "source": [
    "# Picking Out the Best Classification Model for the Task"
   ]
  },
  {
   "cell_type": "code",
   "execution_count": 1,
   "metadata": {},
   "outputs": [],
   "source": [
    "import pandas as pd\n",
    "import numpy as np\n",
    "import logging\n",
    "from pprint import pprint\n",
    "from time import time\n",
    "from sklearn import metrics\n",
    "from sklearn.metrics import f1_score, precision_score, recall_score\n",
    "\n",
    "from sklearn.feature_extraction.text import CountVectorizer, TfidfVectorizer, TfidfTransformer\n",
    "\n",
    "from sklearn.linear_model import LogisticRegression, SGDClassifier\n",
    "from sklearn.naive_bayes import MultinomialNB, GaussianNB, BernoulliNB\n",
    "from sklearn.svm import SVC\n",
    "from sklearn.ensemble import GradientBoostingClassifier, RandomForestClassifier\n",
    "\n",
    "from sklearn.pipeline import Pipeline\n",
    "from sklearn.model_selection import GridSearchCV"
   ]
  },
  {
   "cell_type": "code",
   "execution_count": 2,
   "metadata": {},
   "outputs": [],
   "source": [
    "trainPath = '../data/hateval2019_en_train_clean.csv'\n",
    "testPath = '../data/hateval2019_en_test_clean.csv'\n",
    "\n",
    "trainSet = pd.read_csv(trainPath)\n",
    "testSet = pd.read_csv(testPath)\n",
    "hateSet = trainSet[trainSet['HS']==1]\n",
    "\n",
    "classifiers = ['Multinomial NB', 'Bernoulli NB', 'Gaussian NB', 'Logistic Regression ', 'Stochastic Gradient Descent', 'Support Vector Machine', 'Random Forest', 'Gradient Boosting']"
   ]
  },
  {
   "cell_type": "code",
   "execution_count": 3,
   "metadata": {},
   "outputs": [],
   "source": [
    "def classifying(x, x_test, y, y_test):\n",
    "    lr = LogisticRegression(max_iter=10000)\n",
    "    sgd = SGDClassifier()\n",
    "    multi_nb = MultinomialNB()\n",
    "    gaussian_nb = GaussianNB()\n",
    "    bernoulli_nb = BernoulliNB()\n",
    "    svm = SVC()\n",
    "    rf = RandomForestClassifier(n_estimators = 100)\n",
    "    gb = GradientBoostingClassifier(n_estimators=100, learning_rate=1.0,max_depth=1, random_state=0)\n",
    "\n",
    "    %time multi_nb.fit(x, y)\n",
    "    %time bernoulli_nb.fit(x, y)\n",
    "    %time gaussian_nb.fit(x.toarray(), y)\n",
    "    %time lr.fit(x, y)\n",
    "    %time sgd.fit(x, y)\n",
    "    %time svm.fit(x, y)\n",
    "    %time rf.fit(x, y)\n",
    "    %time gb.fit(x, y)\n",
    "    \n",
    "    accuracy_array = predicting(x_test, y_test, multi_nb, bernoulli_nb, gaussian_nb, lr, sgd, svm, rf, gb)\n",
    "    f1_array = metric_f1(x_test, y_test, multi_nb, bernoulli_nb, gaussian_nb, lr, sgd, svm, rf, gb)\n",
    "    \n",
    "    return accuracy_array, f1_array\n",
    "\n",
    "def predicting(x, y, multi_nb, bernoulli_nb, gaussian_nb, lr, sgd, svm, rf, gb):\n",
    "    #Naive Bayes\n",
    "    y_pred_class_multi_nb = multi_nb.predict(x)\n",
    "    y_pred_class_bernoulli_nb = bernoulli_nb.predict(x)\n",
    "    y_pred_class_gaussian_nb = gaussian_nb.predict(x.toarray())\n",
    "\n",
    "    multi_nb_acc = metrics.accuracy_score(y, y_pred_class_multi_nb)\n",
    "    bernoulli_nb_acc = metrics.accuracy_score(y, y_pred_class_bernoulli_nb)\n",
    "    gaussian_nb_acc = metrics.accuracy_score(y, y_pred_class_gaussian_nb)\n",
    "\n",
    "    #Linear Models\n",
    "    y_pred_class_lr = lr.predict(x)\n",
    "    y_pred_class_sgd = sgd.predict(x)\n",
    "\n",
    "    lr_acc = metrics.accuracy_score(y, y_pred_class_lr)\n",
    "    sgd_acc = metrics.accuracy_score(y, y_pred_class_sgd)\n",
    "\n",
    "\n",
    "    #Support Vector Machine\n",
    "    y_pred_class_svm = svm.predict(x)\n",
    "\n",
    "    svm_acc = metrics.accuracy_score(y, y_pred_class_svm)\n",
    "\n",
    "    #Ensemble\n",
    "    y_pred_class_rf = rf.predict(x)\n",
    "    y_pred_class_gb = gb.predict(x)\n",
    "\n",
    "    rf_acc = metrics.accuracy_score(y, y_pred_class_rf)\n",
    "    gb_acc = metrics.accuracy_score(y, y_pred_class_gb)\n",
    "    \n",
    "    return [multi_nb_acc, bernoulli_nb_acc, gaussian_nb_acc, lr_acc, sgd_acc, svm_acc, rf_acc, gb_acc]\n",
    "\n",
    "def metric_f1(x,y, multi_nb, bernoulli_nb, gaussian_nb, lr, sgd, svm, rf, gb):\n",
    "    #Naive Bayes\n",
    "    y_pred_class_multi_nb = multi_nb.predict(x)\n",
    "    y_pred_class_bernoulli_nb = bernoulli_nb.predict(x)\n",
    "    y_pred_class_gaussian_nb = gaussian_nb.predict(x.toarray())\n",
    "\n",
    "    multi_nb_acc = f1_score(y, y_pred_class_multi_nb)\n",
    "    bernoulli_nb_acc = f1_score(y, y_pred_class_bernoulli_nb)\n",
    "    gaussian_nb_acc = f1_score(y, y_pred_class_gaussian_nb)\n",
    "\n",
    "    #Linear Models\n",
    "    y_pred_class_lr = lr.predict(x)\n",
    "    y_pred_class_sgd = sgd.predict(x)\n",
    "\n",
    "    lr_acc = f1_score(y, y_pred_class_lr)\n",
    "    sgd_acc = f1_score(y, y_pred_class_sgd)\n",
    "\n",
    "\n",
    "    #Support Vector Machine\n",
    "    y_pred_class_svm = svm.predict(x)\n",
    "\n",
    "    svm_acc = f1_score(y, y_pred_class_svm)\n",
    "\n",
    "    #Ensemble\n",
    "    y_pred_class_rf = rf.predict(x)\n",
    "    y_pred_class_gb = gb.predict(x)\n",
    "\n",
    "    rf_acc = f1_score(y, y_pred_class_rf)\n",
    "    gb_acc = f1_score(y, y_pred_class_gb)\n",
    "    \n",
    "    return [multi_nb_acc, bernoulli_nb_acc, gaussian_nb_acc, lr_acc, sgd_acc, svm_acc, rf_acc, gb_acc]"
   ]
  },
  {
   "cell_type": "code",
   "execution_count": 4,
   "metadata": {},
   "outputs": [],
   "source": [
    "#vect = CountVectorizer(stop_words='english', ngram_range=(1, 1), min_df=4, max_df=0.5)\n",
    "vect = TfidfVectorizer(stop_words='english', ngram_range=(1, 1), min_df=4, max_df=0.5)\n",
    "\n",
    "x_train_dtm = vect.fit_transform(trainSet.text)\n",
    "x_test_dtm = vect.transform(testSet.text)"
   ]
  },
  {
   "cell_type": "code",
   "execution_count": 5,
   "metadata": {},
   "outputs": [
    {
     "name": "stdout",
     "output_type": "stream",
     "text": [
      "Wall time: 3 ms\n",
      "Wall time: 5 ms\n",
      "Wall time: 667 ms\n",
      "Wall time: 55 ms\n",
      "Wall time: 18 ms\n",
      "Wall time: 7.24 s\n",
      "Wall time: 4.51 s\n",
      "Wall time: 773 ms\n"
     ]
    }
   ],
   "source": [
    "#Hate Score\n",
    "accuracy_array, f1_array = classifying(x_train_dtm, x_test_dtm, trainSet.HS, testSet.HS)\n",
    "\n",
    "data = pd.DataFrame(accuracy_array, columns=['Accuracy'], index=classifiers)\n",
    "f1 = pd.DataFrame(f1_array, columns=['f1'], index=classifiers)"
   ]
  },
  {
   "cell_type": "code",
   "execution_count": 6,
   "metadata": {},
   "outputs": [
    {
     "name": "stdout",
     "output_type": "stream",
     "text": [
      "                             Accuracy\n",
      "Multinomial NB               0.507000\n",
      "Bernoulli NB                 0.473667\n",
      "Gaussian NB                  0.461667\n",
      "Logistic Regression          0.488000\n",
      "Stochastic Gradient Descent  0.491333\n",
      "Support Vector Machine       0.479667\n",
      "Random Forest                0.454667\n",
      "Gradient Boosting            0.467667\n",
      "\n",
      "\n",
      "                                   f1\n",
      "Multinomial NB               0.605705\n",
      "Bernoulli NB                 0.605349\n",
      "Gaussian NB                  0.589581\n",
      "Logistic Regression          0.606960\n",
      "Stochastic Gradient Descent  0.607106\n",
      "Support Vector Machine       0.603908\n",
      "Random Forest                0.597837\n",
      "Gradient Boosting            0.592914\n"
     ]
    }
   ],
   "source": [
    "print(data)\n",
    "print(\"\\n\")\n",
    "print(f1)"
   ]
  },
  {
   "cell_type": "code",
   "execution_count": 7,
   "metadata": {},
   "outputs": [
    {
     "name": "stdout",
     "output_type": "stream",
     "text": [
      "(3000, 3908)\n"
     ]
    },
    {
     "ename": "NameError",
     "evalue": "name 'testHate' is not defined",
     "output_type": "error",
     "traceback": [
      "\u001b[1;31m---------------------------------------------------------------------------\u001b[0m",
      "\u001b[1;31mNameError\u001b[0m                                 Traceback (most recent call last)",
      "\u001b[1;32m<ipython-input-7-47daccbcb4eb>\u001b[0m in \u001b[0;36m<module>\u001b[1;34m\u001b[0m\n\u001b[0;32m      5\u001b[0m \u001b[1;33m\u001b[0m\u001b[0m\n\u001b[0;32m      6\u001b[0m \u001b[0mprint\u001b[0m\u001b[1;33m(\u001b[0m\u001b[0mx_test_dtm\u001b[0m\u001b[1;33m.\u001b[0m\u001b[0mshape\u001b[0m\u001b[1;33m)\u001b[0m\u001b[1;33m\u001b[0m\u001b[1;33m\u001b[0m\u001b[0m\n\u001b[1;32m----> 7\u001b[1;33m \u001b[0mprint\u001b[0m\u001b[1;33m(\u001b[0m\u001b[0mtestHate\u001b[0m\u001b[1;33m.\u001b[0m\u001b[0mshape\u001b[0m\u001b[1;33m)\u001b[0m\u001b[1;33m\u001b[0m\u001b[1;33m\u001b[0m\u001b[0m\n\u001b[0m\u001b[0;32m      8\u001b[0m \u001b[0mprint\u001b[0m\u001b[1;33m(\u001b[0m\u001b[0mtestAggressive\u001b[0m\u001b[1;33m.\u001b[0m\u001b[0mshape\u001b[0m\u001b[1;33m)\u001b[0m\u001b[1;33m\u001b[0m\u001b[1;33m\u001b[0m\u001b[0m\n\u001b[0;32m      9\u001b[0m \u001b[1;33m\u001b[0m\u001b[0m\n",
      "\u001b[1;31mNameError\u001b[0m: name 'testHate' is not defined"
     ]
    }
   ],
   "source": [
    "#print(hateText.shape)\n",
    "#print(trainTarget.shape)\n",
    "#print(trainAggressive.shape)\n",
    "\n",
    "\n",
    "#print(x_test_dtm.shape)\n",
    "#print(testHate.shape)\n",
    "#print(testAggressive.shape)\n",
    "\n",
    "#nb = MultinomialNB()\n",
    "\n",
    "#print(hate_train_dtm.shape)\n",
    "#print(trainTarget.shape)\n",
    "#print(test.shape)\n",
    "\n",
    "#nb.fit(hate_train_dtm, trainTarget)\n",
    "#data_predict = nb.predict(test)\n",
    "\n",
    "#f1 = f1_score(testTarget, data_predict)\n",
    "#print(f1)\n"
   ]
  },
  {
   "cell_type": "code",
   "execution_count": 9,
   "metadata": {},
   "outputs": [],
   "source": [
    "vect = TfidfVectorizer(stop_words='english', ngram_range=(1, 1), min_df=4, max_df=0.5)\n",
    "x_train_dtm = vect.fit_transform(hateSet.text)\n",
    "x_test_dtm = vect.transform(testSet.text)"
   ]
  },
  {
   "cell_type": "code",
   "execution_count": 10,
   "metadata": {},
   "outputs": [
    {
     "name": "stdout",
     "output_type": "stream",
     "text": [
      "Wall time: 3 ms\n",
      "Wall time: 3 ms\n",
      "Wall time: 666 ms\n",
      "Wall time: 79 ms\n",
      "Wall time: 11 ms\n",
      "Wall time: 3.99 s\n",
      "Wall time: 3.05 s\n",
      "Wall time: 778 ms\n"
     ]
    }
   ],
   "source": [
    "#Target Score\n",
    "#accuracy_array, f1_array = classifying(x_train_dtm, x_test_dtm, trainSet.TR, testSet.TR)\n",
    "accuracy_array, f1_array = classifying(x_train_dtm, x_test_dtm, hateSet.TR, testSet.TR)\n",
    "\n",
    "data = pd.DataFrame(accuracy_array, columns=['Accuracy'], index=classifiers)\n",
    "f1 = pd.DataFrame(f1_array, columns=['f1'], index=classifiers)"
   ]
  },
  {
   "cell_type": "code",
   "execution_count": 11,
   "metadata": {},
   "outputs": [
    {
     "name": "stdout",
     "output_type": "stream",
     "text": [
      "                             Accuracy\n",
      "Multinomial NB               0.832000\n",
      "Bernoulli NB                 0.700000\n",
      "Gaussian NB                  0.650667\n",
      "Logistic Regression          0.800667\n",
      "Stochastic Gradient Descent  0.768333\n",
      "Support Vector Machine       0.775333\n",
      "Random Forest                0.740667\n",
      "Gradient Boosting            0.821000\n",
      "\n",
      "\n",
      "                                   f1\n",
      "Multinomial NB               0.408451\n",
      "Bernoulli NB                 0.524815\n",
      "Gaussian NB                  0.424176\n",
      "Logistic Regression          0.544901\n",
      "Stochastic Gradient Descent  0.541254\n",
      "Support Vector Machine       0.546433\n",
      "Random Forest                0.524450\n",
      "Gradient Boosting            0.584043\n"
     ]
    }
   ],
   "source": [
    "print(data)\n",
    "print(\"\\n\")\n",
    "print(f1)"
   ]
  },
  {
   "cell_type": "code",
   "execution_count": 12,
   "metadata": {},
   "outputs": [
    {
     "name": "stdout",
     "output_type": "stream",
     "text": [
      "Wall time: 3 ms\n",
      "Wall time: 5 ms\n",
      "Wall time: 668 ms\n",
      "Wall time: 75 ms\n",
      "Wall time: 12 ms\n",
      "Wall time: 6.02 s\n",
      "Wall time: 3.7 s\n",
      "Wall time: 768 ms\n"
     ]
    }
   ],
   "source": [
    "#Aggressive Score\n",
    "#accuracy_array, f1_array = classifying(x_train_dtm, x_test_dtm, trainSet.AG, testSet.AG)\n",
    "accuracy_array, f1_array = classifying(x_train_dtm, x_test_dtm, hateSet.AG, testSet.TR)\n",
    "\n",
    "data = pd.DataFrame(accuracy_array, columns=['Accuracy'], index=classifiers)\n",
    "f1 = pd.DataFrame(f1_array, columns=['f1'], index=classifiers)"
   ]
  },
  {
   "cell_type": "code",
   "execution_count": 13,
   "metadata": {},
   "outputs": [
    {
     "name": "stdout",
     "output_type": "stream",
     "text": [
      "                             Accuracy\n",
      "Multinomial NB               0.744333\n",
      "Bernoulli NB                 0.639667\n",
      "Gaussian NB                  0.406000\n",
      "Logistic Regression          0.746000\n",
      "Stochastic Gradient Descent  0.694000\n",
      "Support Vector Machine       0.708667\n",
      "Random Forest                0.662000\n",
      "Gradient Boosting            0.639333\n",
      "\n",
      "\n",
      "                                   f1\n",
      "Multinomial NB               0.270219\n",
      "Bernoulli NB                 0.354627\n",
      "Gaussian NB                  0.332084\n",
      "Logistic Regression          0.331579\n",
      "Stochastic Gradient Descent  0.337662\n",
      "Support Vector Machine       0.311811\n",
      "Random Forest                0.335518\n",
      "Gradient Boosting            0.281541\n"
     ]
    }
   ],
   "source": [
    "print(data)\n",
    "print(\"\\n\")\n",
    "print(f1)"
   ]
  },
  {
   "cell_type": "markdown",
   "metadata": {},
   "source": [
    "# Results\n",
    "\n",
    "\n",
    "## Hate Score\n",
    "```\n",
    "                             Accuracy\n",
    "Multinomial NB               0.507000\n",
    "Bernoulli NB                 0.473667\n",
    "Gaussian NB                  0.461667\n",
    "Logistic Regression          0.488000\n",
    "Stochastic Gradient Descent  0.491333\n",
    "Support Vector Machine       0.479667\n",
    "Random Forest                0.454667\n",
    "Gradient Boosting            0.467667\n",
    "\n",
    "\n",
    "                                   f1\n",
    "Multinomial NB               0.605705\n",
    "Bernoulli NB                 0.605349\n",
    "Gaussian NB                  0.589581\n",
    "Logistic Regression          0.606960\n",
    "Stochastic Gradient Descent  0.607106\n",
    "Support Vector Machine       0.603908\n",
    "Random Forest                0.597837\n",
    "Gradient Boosting            0.592914\n",
    "\n",
    "```\n",
    "\n",
    "## Target Score\n",
    "\n",
    "### No Filter\n",
    "```\n",
    "Accuracy\n",
    "                             Accuracy\n",
    "Multinomial NB               0.832000\n",
    "Bernoulli NB                 0.700000\n",
    "Gaussian NB                  0.650667\n",
    "Logistic Regression          0.800667\n",
    "Stochastic Gradient Descent  0.768333\n",
    "Support Vector Machine       0.775333\n",
    "Random Forest                0.740667\n",
    "Gradient Boosting            0.821000\n",
    "\n",
    "\n",
    "                                   f1\n",
    "Multinomial NB               0.408451\n",
    "Bernoulli NB                 0.524815\n",
    "Gaussian NB                  0.424176\n",
    "Logistic Regression          0.544901\n",
    "Stochastic Gradient Descent  0.541254\n",
    "Support Vector Machine       0.546433\n",
    "Random Forest                0.524450\n",
    "Gradient Boosting            0.584043\n",
    "\n",
    "```\n",
    "\n",
    "### Filter HS=1\n",
    "\n",
    "## Aggressive Score\n",
    "\n",
    "### Filter HS=1\n",
    "```\n",
    "                             Accuracy\n",
    "Multinomial NB               0.744333\n",
    "Bernoulli NB                 0.639667\n",
    "Gaussian NB                  0.406000\n",
    "Logistic Regression          0.746000\n",
    "Stochastic Gradient Descent  0.694000\n",
    "Support Vector Machine       0.708667\n",
    "Random Forest                0.662000\n",
    "Gradient Boosting            0.639333\n",
    "\n",
    "\n",
    "                                   f1\n",
    "Multinomial NB               0.270219\n",
    "Bernoulli NB                 0.354627\n",
    "Gaussian NB                  0.332084\n",
    "Logistic Regression          0.331579\n",
    "Stochastic Gradient Descent  0.337662\n",
    "Support Vector Machine       0.311811\n",
    "Random Forest                0.335518\n",
    "Gradient Boosting            0.281541\n",
    "```\n",
    "\n",
    "### Filter HS=1"
   ]
  },
  {
   "cell_type": "code",
   "execution_count": null,
   "metadata": {},
   "outputs": [],
   "source": []
  }
 ],
 "metadata": {
  "kernelspec": {
   "display_name": "Python 3",
   "language": "python",
   "name": "python3"
  },
  "language_info": {
   "codemirror_mode": {
    "name": "ipython",
    "version": 3
   },
   "file_extension": ".py",
   "mimetype": "text/x-python",
   "name": "python",
   "nbconvert_exporter": "python",
   "pygments_lexer": "ipython3",
   "version": "3.8.5"
  }
 },
 "nbformat": 4,
 "nbformat_minor": 4
}
