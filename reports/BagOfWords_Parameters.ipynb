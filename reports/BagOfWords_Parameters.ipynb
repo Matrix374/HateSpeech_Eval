{
 "cells": [
  {
   "cell_type": "code",
   "execution_count": 1,
   "metadata": {},
   "outputs": [],
   "source": [
    "import pandas as pd\n",
    "import numpy as np\n",
    "import logging\n",
    "from pprint import pprint\n",
    "from time import time\n",
    "from sklearn import metrics\n",
    "from sklearn.metrics import f1_score, precision_score, recall_score, classification_report\n",
    "\n",
    "from sklearn.feature_extraction.text import CountVectorizer, TfidfVectorizer, TfidfTransformer\n",
    "\n",
    "from sklearn.linear_model import LogisticRegression, SGDClassifier\n",
    "from sklearn.naive_bayes import MultinomialNB, GaussianNB, BernoulliNB\n",
    "from sklearn.svm import SVC\n",
    "from sklearn.ensemble import GradientBoostingClassifier, RandomForestClassifier\n",
    "\n",
    "from sklearn.pipeline import Pipeline\n",
    "from sklearn.model_selection import GridSearchCV"
   ]
  },
  {
   "cell_type": "code",
   "execution_count": 2,
   "metadata": {},
   "outputs": [],
   "source": [
    "trainPath = '../data/hateval2019_en_train_clean.csv'\n",
    "testPath = '../data/hateval2019_en_test_clean.csv'\n",
    "\n",
    "trainSet = pd.read_csv(trainPath)\n",
    "testSet = pd.read_csv(testPath)"
   ]
  },
  {
   "cell_type": "code",
   "execution_count": 3,
   "metadata": {},
   "outputs": [],
   "source": [
    "trainText = trainSet.text\n",
    "\n",
    "testText = testSet.text"
   ]
  },
  {
   "cell_type": "code",
   "execution_count": 4,
   "metadata": {},
   "outputs": [],
   "source": [
    "def classify(x, y, x_test, y_test):\n",
    "    nb = SGDClassifier()\n",
    "\n",
    "    nb.fit(x, y)\n",
    "    y_pred_class_nb = nb.predict(x_test)\n",
    "    \n",
    "    print(classification_report(y_test, y_pred_class_nb, labels=[0,1]))"
   ]
  },
  {
   "cell_type": "code",
   "execution_count": 22,
   "metadata": {},
   "outputs": [
    {
     "name": "stdout",
     "output_type": "stream",
     "text": [
      "              precision    recall  f1-score   support\n",
      "\n",
      "           0       0.74      0.23      0.35      1740\n",
      "           1       0.45      0.89      0.60      1260\n",
      "\n",
      "    accuracy                           0.51      3000\n",
      "   macro avg       0.60      0.56      0.47      3000\n",
      "weighted avg       0.62      0.51      0.45      3000\n",
      "\n"
     ]
    }
   ],
   "source": [
    "# Experiment 1\n",
    "vect = CountVectorizer(stop_words='english', ngram_range=(1, 1), min_df=2, max_df=0.25)\n",
    "\n",
    "x_train_dtm = vect.fit_transform(trainSet.text)\n",
    "x_test_dtm = vect.transform(testSet.text)\n",
    "\n",
    "classify(x_train_dtm, trainSet.HS, x_test_dtm, testSet.HS)"
   ]
  },
  {
   "cell_type": "code",
   "execution_count": 23,
   "metadata": {},
   "outputs": [
    {
     "name": "stdout",
     "output_type": "stream",
     "text": [
      "              precision    recall  f1-score   support\n",
      "\n",
      "           0       0.75      0.21      0.32      1740\n",
      "           1       0.45      0.91      0.60      1260\n",
      "\n",
      "    accuracy                           0.50      3000\n",
      "   macro avg       0.60      0.56      0.46      3000\n",
      "weighted avg       0.63      0.50      0.44      3000\n",
      "\n"
     ]
    }
   ],
   "source": [
    "# Experiment 2\n",
    "vect = CountVectorizer(stop_words='english', ngram_range=(1, 1), min_df=2, max_df=0.5)\n",
    "\n",
    "x_train_dtm = vect.fit_transform(trainSet.text)\n",
    "x_test_dtm = vect.transform(testSet.text)\n",
    "\n",
    "classify(x_train_dtm, trainSet.HS, x_test_dtm, testSet.HS)"
   ]
  },
  {
   "cell_type": "code",
   "execution_count": 24,
   "metadata": {},
   "outputs": [
    {
     "name": "stdout",
     "output_type": "stream",
     "text": [
      "              precision    recall  f1-score   support\n",
      "\n",
      "           0       0.76      0.19      0.31      1740\n",
      "           1       0.45      0.91      0.60      1260\n",
      "\n",
      "    accuracy                           0.50      3000\n",
      "   macro avg       0.60      0.55      0.46      3000\n",
      "weighted avg       0.63      0.50      0.43      3000\n",
      "\n"
     ]
    }
   ],
   "source": [
    "# Experiment 3\n",
    "vect = CountVectorizer(stop_words='english', ngram_range=(1, 1), min_df=2, max_df=0.75)\n",
    "\n",
    "x_train_dtm = vect.fit_transform(trainSet.text)\n",
    "x_test_dtm = vect.transform(testSet.text)\n",
    "\n",
    "classify(x_train_dtm, trainSet.HS, x_test_dtm, testSet.HS)"
   ]
  },
  {
   "cell_type": "code",
   "execution_count": 21,
   "metadata": {},
   "outputs": [
    {
     "name": "stdout",
     "output_type": "stream",
     "text": [
      "              precision    recall  f1-score   support\n",
      "\n",
      "           0       0.79      0.16      0.27      1740\n",
      "           1       0.45      0.94      0.61      1260\n",
      "\n",
      "    accuracy                           0.49      3000\n",
      "   macro avg       0.62      0.55      0.44      3000\n",
      "weighted avg       0.65      0.49      0.41      3000\n",
      "\n"
     ]
    }
   ],
   "source": [
    "# Experiment 4\n",
    "vect = TfidfVectorizer(stop_words='english', ngram_range=(1, 1), min_df=2, max_df=0.75)\n",
    "\n",
    "x_train_dtm = vect.fit_transform(trainSet.text)\n",
    "x_test_dtm = vect.transform(testSet.text)\n",
    "\n",
    "classify(x_train_dtm, trainSet.HS, x_test_dtm, testSet.HS)"
   ]
  },
  {
   "cell_type": "code",
   "execution_count": null,
   "metadata": {},
   "outputs": [],
   "source": []
  }
 ],
 "metadata": {
  "kernelspec": {
   "display_name": "Python 3",
   "language": "python",
   "name": "python3"
  },
  "language_info": {
   "codemirror_mode": {
    "name": "ipython",
    "version": 3
   },
   "file_extension": ".py",
   "mimetype": "text/x-python",
   "name": "python",
   "nbconvert_exporter": "python",
   "pygments_lexer": "ipython3",
   "version": "3.8.5"
  }
 },
 "nbformat": 4,
 "nbformat_minor": 4
}
